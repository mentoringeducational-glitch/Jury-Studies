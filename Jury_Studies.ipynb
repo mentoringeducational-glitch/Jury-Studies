{
  "nbformat": 4,
  "nbformat_minor": 0,
  "metadata": {
    "colab": {
      "provenance": []
    },
    "kernelspec": {
      "name": "python3",
      "display_name": "Python 3"
    },
    "language_info": {
      "name": "python"
    }
  },
  "cells": [
    {
      "cell_type": "markdown",
      "source": [
        "# 📘 Critério de Jury – Guia de Estudos Interativo\n",
        "\n",
        "### ✍️ Autoria\n",
        "- **Prof. Luiz Carlos de Freitas Júnior**  \n",
        "- Universidade São Francisco – Cursos de Engenharia  \n",
        "- Ano/Semestre: 2025/2  \n",
        "\n",
        "---\n",
        "\n",
        "### 🎯 Objetivos do Colab\n",
        "- Disponibilizar um ambiente **interativo** para o estudo do **Critério de Jury**.  \n",
        "- Auxiliar os estudantes a compreenderem e aplicarem o método em **sistemas discretos**.  \n",
        "- Oferecer ferramentas práticas para:  \n",
        "  - Construir a **Tabela de Jury** (famílias A, B, C, …).  \n",
        "  - Realizar a **redução até grau 2**.  \n",
        "  - Verificar **pré-condições** de estabilidade.  \n",
        "  - Obter um **veredito automático** (Estável ❇️ / Instável ❌).  \n",
        "  - **Exportar resultados** (CSV/Markdown) para relatórios acadêmicos.  \n",
        "\n",
        "---\n",
        "\n",
        "### 📚 Conexão com a Disciplina\n",
        "- Parte integrante do conteúdo de **Controle Digital**.  \n",
        "- Relacionado ao **Plano de Atividades 2025/2**, competência 4: *Analisar a estabilidade de sistemas discretos*.  \n",
        "- Útil para resolução de **exercícios de prova** e **trabalhos práticos**.\n",
        "\n",
        "---\n",
        "\n",
        "### ✅ Como usar este Colab\n",
        "1. Leia o fluxograma e o glossário.  \n",
        "2. Insira os coeficientes do polinômio característico nos blocos indicados.  \n",
        "3. Execute célula por célula, acompanhando os resultados.  \n",
        "4. Compare os resultados da **redução** e das **famílias**.  \n",
        "5. Use a célula de **exportação** para gerar arquivos de apoio ao seu relatório.  \n",
        "\n",
        "---\n",
        "\n",
        "> 🔔 **Observação:** Este material é de uso acadêmico, aberto para todos os estudantes da disciplina.  \n",
        "> Sinta-se à vontade para explorar, modificar e reutilizar nos seus estudos.\n"
      ],
      "metadata": {
        "id": "h0N-73MtGi3-"
      }
    },
    {
      "cell_type": "markdown",
      "source": [
        "# 📘 Roteiro de Estudos – Critério de Jury em Python (Colab Didático)\n",
        "\n",
        "Este notebook foi criado para apoiar o estudo do **Critério de Jury**, ferramenta clássica para análise de **estabilidade de sistemas discretos**.  \n",
        "Aqui você encontrará a lógica do código em forma de fluxograma, um glossário das bibliotecas utilizadas e um glossário dos principais comandos implementados.\n",
        "\n",
        "---\n",
        "\n",
        "## 🔹 1. Fluxograma da lógica do Colab\n",
        "\n",
        "```mermaid\n",
        "flowchart TD\n",
        "    A[Entrada: coeficientes do polinômio] --> B[Checagem das pré-condições]\n",
        "    B -->|Falha| X[Veredito = ❌ Instável]\n",
        "    B -->|Passa| C[Construção da Tabela de Jury]\n",
        "    C --> D[Redução do grau sucessivamente]\n",
        "    D -->|Até grau 2| E[Polinômio quadrático final]\n",
        "    E --> F[Veredito final: ✅ Estável ou ❌ Instável]\n",
        "    F --> G[Exibição em DataFrame]\n",
        "    G --> H[(Opcional) Exportação para CSV/Markdown]\n"
      ],
      "metadata": {
        "id": "D32afNXKx5d0"
      }
    },
    {
      "cell_type": "markdown",
      "source": [
        "# **Título e objetivos**"
      ],
      "metadata": {
        "id": "qggzb_6mufSr"
      }
    },
    {
      "cell_type": "markdown",
      "source": [
        "# Critério de Jury (Sistemas Discretos) — Colab Didático\n",
        "\n",
        "**Objetivo:** permitir que você **avalie estabilidade** de sistemas discretos pelo **Critério de Jury**, trabalhando:\n",
        "- Pré-condições do Jury;\n",
        "- Construção da **Tabela de Jury**;\n",
        "- Parada em **grau 2** (para análise/relato) e veredito claro (**Estável / Instável**);\n",
        "- Exploração por **coeficientes** e por **raízes**;\n",
        "- Exportação dos resultados.\n",
        "\n",
        "> Relembrando: um sistema discreto é **estável** se **todas as raízes** do polinômio característico estiverem **dentro do círculo unitário** (|z| < 1).\n"
      ],
      "metadata": {
        "id": "rEXOgbiOukBD"
      }
    },
    {
      "cell_type": "markdown",
      "source": [
        "# **Resumo teórico**"
      ],
      "metadata": {
        "id": "hbZNpCJ0unx0"
      }
    },
    {
      "cell_type": "markdown",
      "source": [
        "## Resumo teórico (Critério de Jury)\n",
        "\n",
        "Dado o polinômio característico:\n",
        "\\[\n",
        "P(z) = a_0 z^n + a_1 z^{n-1} + \\cdots + a_n,\\quad a_0>0,\n",
        "\\]\n",
        "o Critério de Jury verifica estabilidade sem calcular explicitamente as raízes.\n",
        "\n",
        "**Pré-condições (necessárias):**\n",
        "1. \\(P(1) > 0\\)\n",
        "2. \\((-1)^n P(-1) > 0\\)\n",
        "3. \\(|a_n| < a_0\\)\n",
        "\n",
        "**Tabela de Jury (idéia):**\n",
        "- A partir dos coeficientes \\(A^{(0)}\\), formam-se sequências reduzindo o grau a cada etapa.\n",
        "- Em cada etapa, exige-se \\(|a_m| < a_0\\) (coef. último vs. primeiro).\n",
        "- O processo segue até reduzir para **grau 2** (três coeficientes) — aqui paramos para relatório — ou até **grau 1** no teste completo.\n",
        "\n",
        "> Neste notebook, paramos em **grau 2** (como ferramenta de estudo). O veredito “Estável/Instável” é dado **até esse ponto**. Para concluir o critério completo, seguiria até grau 1.\n"
      ],
      "metadata": {
        "id": "OwfsbIDUutXk"
      }
    },
    {
      "cell_type": "markdown",
      "source": [
        "# Bloco 1 — Imports e utilitários"
      ],
      "metadata": {
        "id": "y5FQC6scu0Jz"
      }
    },
    {
      "cell_type": "code",
      "source": [
        "import numpy as np\n",
        "import pandas as pd\n",
        "\n",
        "def as_array(x):\n",
        "    return np.asarray(x, dtype=float)\n",
        "\n",
        "def coeffs_to_ascending(coeffs, order=\"desc\"):\n",
        "    \"\"\"\n",
        "    Converte coeficientes para ORDEM CRESCENTE DE ÍNDICE (A0..An).\n",
        "    - order=\"desc\": entrada é [a0, a1, ..., an] (potências decrescentes).\n",
        "    - order=\"asc\" : entrada já está [A0, A1, ..., An].\n",
        "    \"\"\"\n",
        "    c = as_array(coeffs).tolist()\n",
        "    if order == \"desc\":\n",
        "        return c[::-1]\n",
        "    elif order == \"asc\":\n",
        "        return c\n",
        "    raise ValueError('order deve ser \"desc\" ou \"asc\"')\n",
        "\n",
        "def coeffs_to_descending(a_asc):\n",
        "    \"\"\"Volta para ordem decrescente de potência (a0..an).\"\"\"\n",
        "    return as_array(a_asc).tolist()[::-1]\n"
      ],
      "metadata": {
        "id": "rKPx49zwuzVU"
      },
      "execution_count": null,
      "outputs": []
    },
    {
      "cell_type": "markdown",
      "source": [
        "# Bloco 2 — Núcleo do Jury (para em grau 2)"
      ],
      "metadata": {
        "id": "KNR_9ULTu8m2"
      }
    },
    {
      "cell_type": "code",
      "source": [
        "def jury_until_quadratic(coeffs, order=\"desc\", eps=1e-12, normalize=True, verbose=True):\n",
        "    \"\"\"\n",
        "    Executa o Jury reduzindo até grau 2.\n",
        "    - coeffs: coeficientes do polinômio.\n",
        "    - order : \"desc\" (padrão, a0..an) ou \"asc\" (A0..An).\n",
        "    Retorna: dict com stable, reason, preconditions, table, final_quadratic, reached_deg2.\n",
        "    \"\"\"\n",
        "    # normaliza formatos\n",
        "    a_asc  = coeffs_to_ascending(coeffs, order=order)  # A0..An\n",
        "    a_desc = coeffs_to_descending(a_asc)                # a0..an (decrescente)\n",
        "\n",
        "    A0 = as_array(a_desc).copy()\n",
        "    notes, stable = [], True\n",
        "    reason, reached_deg2 = \"Todas as condições satisfeitas até grau 2.\", False\n",
        "\n",
        "    if len(A0) < 3:\n",
        "        raise ValueError(\"Grau ≥ 2.\")\n",
        "\n",
        "    # convenção a0>0\n",
        "    if A0[0] < 0:\n",
        "        A0 = -A0\n",
        "        notes.append(\"Líder negativo — invertido para manter a0>0.\")\n",
        "\n",
        "    n = len(A0) - 1\n",
        "\n",
        "    # pré-condições\n",
        "    def _eval_desc(a, z):\n",
        "        m = len(a) - 1\n",
        "        return sum(a[k] * z**(m-k) for k in range(m+1))\n",
        "\n",
        "    P1  = _eval_desc(A0,  1.0)\n",
        "    Pm1 = _eval_desc(A0, -1.0)\n",
        "    cond1 = P1 > 0\n",
        "    cond2 = ((-1)**n) * Pm1 > 0\n",
        "    cond3 = abs(A0[-1]) < A0[0]\n",
        "\n",
        "    pre = {\"P(1)>0\": cond1, \"(-1)^n P(-1)>0\": cond2, \"|a_n|<a_0\": cond3,\n",
        "           \"P(1)\": float(P1), \"(-1)^n P(-1)\": float(((-1)**n)*Pm1),\n",
        "           \"a0\": float(A0[0]), \"an\": float(A0[-1])}\n",
        "\n",
        "    if verbose:\n",
        "        print(\"[Pré-condições]\")\n",
        "        print(f\"  P(1)={P1:.6g} > 0 ? {cond1}\")\n",
        "        print(f\"  (-1)^n P(-1)={(((-1)**n)*Pm1):.6g} > 0 ? {cond2}\")\n",
        "        print(f\"  |a_n|<{A0[0]:.6g}  ? {cond3}\")\n",
        "\n",
        "    if not (cond1 and cond2 and cond3):\n",
        "        return {\"stable\": False, \"reason\": \"Falha nas pré-condições do Jury.\",\n",
        "                \"preconditions\": pre, \"table\": [A0.tolist()],\n",
        "                \"final_quadratic\": None, \"reached_deg2\": False, \"notes\": notes}\n",
        "\n",
        "    table = [A0.copy()]\n",
        "    Ak = A0.copy()\n",
        "    while len(Ak) > 3:\n",
        "        a0_k, am_k = Ak[0], Ak[-1]\n",
        "        if not (abs(am_k) + eps < abs(a0_k)):\n",
        "            return {\"stable\": False,\n",
        "                    \"reason\": f\"Falha intermediária: |a_m| >= a_0 (|{am_k:.6g}| >= {a0_k:.6g}).\",\n",
        "                    \"preconditions\": pre, \"table\": [row.tolist() for row in table],\n",
        "                    \"final_quadratic\": None, \"reached_deg2\": False, \"notes\": notes}\n",
        "        Bk = Ak[::-1]\n",
        "        Ck = a0_k * Ak - am_k * Bk\n",
        "        Ak1 = Ck[:-1].copy()\n",
        "        if normalize:\n",
        "            if abs(Ak1[0]) <= eps:\n",
        "                return {\"stable\": False, \"reason\": \"Coeficiente líder ~0 após redução (degenerado).\",\n",
        "                        \"preconditions\": pre, \"table\": [row.tolist() for row in table],\n",
        "                        \"final_quadratic\": None, \"reached_deg2\": False, \"notes\": notes}\n",
        "            Ak1 = Ak1 / Ak1[0]\n",
        "        Ak = Ak1\n",
        "        table.append(Ak.copy())\n",
        "\n",
        "    reached_deg2 = True\n",
        "    return {\"stable\": True, \"reason\": reason, \"preconditions\": pre,\n",
        "            \"table\": [row.tolist() for row in table],\n",
        "            \"final_quadratic\": Ak.tolist(), \"reached_deg2\": reached_deg2, \"notes\": notes}\n",
        "\n"
      ],
      "metadata": {
        "id": "Aad0gsCBu_nV"
      },
      "execution_count": null,
      "outputs": []
    },
    {
      "cell_type": "markdown",
      "source": [
        "# Bloco 3 — Saída bonita (veredito + DataFrame)"
      ],
      "metadata": {
        "id": "j32lsNMgvCLE"
      }
    },
    {
      "cell_type": "code",
      "source": [
        "def verdict_pretty(res):\n",
        "    \"\"\"Imprime veredito + pré-condições de forma amigável.\"\"\"\n",
        "    print(\"\\n=== Veredito ===\")\n",
        "    print(\"Estável? \", \"✅ SIM\" if res[\"stable\"] else \"❌ NÃO\")\n",
        "    print(\"Motivo:  \", res[\"reason\"])\n",
        "    if res.get(\"final_quadratic\") is not None:\n",
        "        print(\"Quadrático final [b0, b1, b2]:\", res[\"final_quadratic\"])\n",
        "\n",
        "    pre = res[\"preconditions\"]\n",
        "    ok  = lambda v: \"✓\" if v else \"✗\"\n",
        "    print(\"\\n[Pré-condições]\")\n",
        "    print(f\"  P(1)>0:              {ok(pre['P(1)>0'])}  (P(1)={pre['P(1)']:.6g})\")\n",
        "    print(f\"  (-1)^n P(-1)>0:      {ok(pre['(-1)^n P(-1)>0'])}  ((-1)^n P(-1)={pre['(-1)^n P(-1)']:.6g})\")\n",
        "    print(f\"  |a_n| < a_0:         {ok(pre['|a_n|<a_0'])}  (|an|={abs(pre['an']):.6g} < a0={pre['a0']:.6g})\")\n",
        "\n",
        "def jury_table_df(table_rows):\n",
        "    \"\"\"Cria DataFrame com a Tabela de Jury (formatado).\"\"\"\n",
        "    maxlen = max(len(r) for r in table_rows)\n",
        "    cols = [f\"c{k}\" for k in range(maxlen)]\n",
        "    idx  = [f\"A^{i}\" for i in range(len(table_rows))]\n",
        "    data = [r + [\"\"]*(maxlen-len(r)) for r in table_rows]\n",
        "    df = pd.DataFrame(data, index=idx, columns=cols)\n",
        "\n",
        "    # Formatação (pandas novo: .map; fallback: .applymap)\n",
        "    def _fmt(x):\n",
        "        return f\"{x:.6g}\" if isinstance(x, (int, float)) and x != \"\" else x\n",
        "    try:\n",
        "        df = df.map(_fmt)\n",
        "    except Exception:\n",
        "        df = df.applymap(_fmt)\n",
        "    return df\n",
        "\n",
        "def export_table(table_rows, basename=\"jury_table\"):\n",
        "    \"\"\"Salva CSV e Markdown da Tabela de Jury.\"\"\"\n",
        "    df = jury_table_df(table_rows)\n",
        "    csv_path = f\"{basename}.csv\"\n",
        "    md_path  = f\"{basename}.md\"\n",
        "    df.to_csv(csv_path, index=True)\n",
        "    with open(md_path, \"w\", encoding=\"utf-8\") as f:\n",
        "        f.write(df.to_markdown())\n",
        "    print(f\"Arquivos salvos:\\n- {csv_path}\\n- {md_path}\")\n",
        "    return csv_path, md_path\n"
      ],
      "metadata": {
        "id": "sGF60a3KvID8"
      },
      "execution_count": null,
      "outputs": []
    },
    {
      "cell_type": "markdown",
      "source": [
        "# Bloco 4 — Helpers de exibição"
      ],
      "metadata": {
        "id": "cMzZoOqovL0M"
      }
    },
    {
      "cell_type": "code",
      "source": [
        "def verdict_pretty(res):\n",
        "    print(\"\\n=== Veredito ===\")\n",
        "    print(\"Estável? \", \"✅ SIM\" if res[\"stable\"] else \"❌ NÃO\")\n",
        "    print(\"Motivo:  \", res[\"reason\"])\n",
        "    if res.get(\"final_quadratic\") is not None:\n",
        "        print(\"Quadrático final [b0, b1, b2]:\", res[\"final_quadratic\"])\n",
        "    pre = res[\"preconditions\"]; ok = (lambda v: \"✓\" if v else \"✗\")\n",
        "    print(\"\\n[Pré-condições]\")\n",
        "    print(f\"  P(1)>0:              {ok(pre['P(1)>0'])}  (P(1)={pre['P(1)']:.6g})\")\n",
        "    print(f\"  (-1)^n P(-1)>0:      {ok(pre['(-1)^n P(-1)>0'])}  ((-1)^n P(-1)={pre['(-1)^n P(-1)']:.6g})\")\n",
        "    print(f\"  |a_n| < a_0:         {ok(pre['|a_n|<a_0'])}  (|an|={abs(pre['an']):.6g} < a0={pre['a0']:.6g})\")\n",
        "\n",
        "def jury_table_df(table_rows):\n",
        "    maxlen = max(len(r) for r in table_rows)\n",
        "    cols = [f\"c{k}\" for k in range(maxlen)]\n",
        "    idx  = [f\"A^{i}\" for i in range(len(table_rows))]\n",
        "    data = [r + [\"\"]*(maxlen-len(r)) for r in table_rows]\n",
        "    df = pd.DataFrame(data, index=idx, columns=cols)\n",
        "    def _fmt(x): return f\"{x:.6g}\" if isinstance(x,(int,float)) and x != \"\" else x\n",
        "    try:   df = df.map(_fmt)       # pandas novo\n",
        "    except: df = df.applymap(_fmt) # fallback\n",
        "    return df\n",
        "\n"
      ],
      "metadata": {
        "id": "Ch16stTpvN4j"
      },
      "execution_count": null,
      "outputs": []
    },
    {
      "cell_type": "markdown",
      "source": [
        "# Bloco 5 — Famílias A, B, C, … até 3 elementos"
      ],
      "metadata": {
        "id": "CPgaTAOGvT3z"
      }
    },
    {
      "cell_type": "code",
      "source": [
        "import string\n",
        "\n",
        "def build_jury_families_until_len3(a_asc, as_dataframe=True, fmt_six=True):\n",
        "    \"\"\"\n",
        "    Monta as famílias A, B, C, ... até surgir uma família com 3 elementos.\n",
        "    ENTRADA: a_asc = [A0, A1, ..., An] (ordem CRESCENTE de índice).\n",
        "    Regra X->Y (se X tem m elementos): Y_k = X0*Xk - X_{m-1}*X_{m-1-k}, k=0..m-2\n",
        "    Gera duas linhas por família: direta (→) e reversa (←).\n",
        "    \"\"\"\n",
        "    x = as_array(a_asc).tolist()\n",
        "    if len(x) < 3:\n",
        "        raise ValueError(\"Forneça pelo menos 3 coeficientes (grau ≥ 2).\")\n",
        "\n",
        "    rows, fam_labels = [], list(string.ascii_uppercase)\n",
        "    fam_idx, curr = 0, x\n",
        "    while True:\n",
        "        fam = fam_labels[fam_idx]\n",
        "        rows.append((f\"{fam} (→)\", curr.copy()))\n",
        "        rows.append((f\"{fam} (←)\", curr[::-1].copy()))\n",
        "        if len(curr) == 3:\n",
        "            break\n",
        "        m, x0, xm1 = len(curr), curr[0], curr[-1]\n",
        "        nxt = [x0*curr[k] - xm1*curr[m-1-k] for k in range(m-1)]\n",
        "        curr, fam_idx = nxt, fam_idx + 1\n",
        "\n",
        "    if not as_dataframe:\n",
        "        return rows\n",
        "\n",
        "    max_len = max(len(r[1]) for r in rows)\n",
        "    cols = [f\"c{k}\" for k in range(max_len)]\n",
        "    data, idx = [], []\n",
        "    for name, vals in rows:\n",
        "        pad = vals + [\"\"]*(max_len - len(vals))\n",
        "        data.append(pad); idx.append(name)\n",
        "    df = pd.DataFrame(data, index=idx, columns=cols)\n",
        "\n",
        "    if fmt_six:\n",
        "        def _fmt(v): return f\"{v:.6g}\" if isinstance(v,(int,float)) and v != \"\" else v\n",
        "        try:   df = df.map(_fmt)\n",
        "        except: df = df.applymap(_fmt)\n",
        "    return df\n"
      ],
      "metadata": {
        "id": "woAaYaalvXBD"
      },
      "execution_count": null,
      "outputs": []
    },
    {
      "cell_type": "markdown",
      "source": [
        "# Bloco 6 — Entrada do usuário + execução unificada"
      ],
      "metadata": {
        "id": "f2Z1K4QuvyDz"
      }
    },
    {
      "cell_type": "code",
      "source": [
        "# ======= Entrada do usuário =======\n",
        "# Ex.: \"desc\" -> [a0, a1, ..., an] (potências decrescentes)\n",
        "#     \"asc\"  -> [A0, A1, ..., An] (constante até líder)\n",
        "coeffs_user = [1, -3.1, 3.29, -1.457, 0.267, -0.01512]\n",
        "order_user  = \"desc\"   # mude para \"asc\" se já vier A0..An\n",
        "\n",
        "# ======= Jury (redução até grau 2) =======\n",
        "res = jury_until_quadratic(coeffs_user, order=order_user, verbose=True)\n",
        "verdict_pretty(res)\n",
        "print(\"\\n=== Tabela (redução até grau 2) ===\")\n",
        "display(jury_table_df(res[\"table\"]).style.set_caption(\"Tabela de Jury — Redução\"))\n",
        "\n",
        "# ======= Famílias A, B, C, ... (até 3 elementos) =======\n",
        "a_asc = coeffs_to_ascending(coeffs_user, order=order_user)\n",
        "df_fams = build_jury_families_until_len3(a_asc, as_dataframe=True)\n",
        "print(\"\\n=== Famílias A, B, C, ... (até 3 elementos) ===\")\n",
        "display(df_fams.style.set_caption(\"Tabela de famílias (Jury)\"))\n",
        "\n"
      ],
      "metadata": {
        "colab": {
          "base_uri": "https://localhost:8080/",
          "height": 708
        },
        "id": "Zs_qrqq4v1tz",
        "outputId": "fbb4b1cd-f023-4af8-afc6-4bc41203cff2"
      },
      "execution_count": null,
      "outputs": [
        {
          "output_type": "stream",
          "name": "stdout",
          "text": [
            "[Pré-condições]\n",
            "  P(1)=-0.01512 > 0 ? False\n",
            "  (-1)^n P(-1)=9.12912 > 0 ? True\n",
            "  |a_n|<1  ? True\n",
            "\n",
            "=== Veredito ===\n",
            "Estável?  ❌ NÃO\n",
            "Motivo:   Falha nas pré-condições do Jury.\n",
            "\n",
            "[Pré-condições]\n",
            "  P(1)>0:              ✗  (P(1)=-0.01512)\n",
            "  (-1)^n P(-1)>0:      ✓  ((-1)^n P(-1)=9.12912)\n",
            "  |a_n| < a_0:         ✓  (|an|=0.01512 < a0=1)\n",
            "\n",
            "=== Tabela (redução até grau 2) ===\n"
          ]
        },
        {
          "output_type": "display_data",
          "data": {
            "text/plain": [
              "<pandas.io.formats.style.Styler at 0x7935f68d3470>"
            ],
            "text/html": [
              "<style type=\"text/css\">\n",
              "</style>\n",
              "<table id=\"T_2058d\" class=\"dataframe\">\n",
              "  <caption>Tabela de Jury — Redução</caption>\n",
              "  <thead>\n",
              "    <tr>\n",
              "      <th class=\"blank level0\" >&nbsp;</th>\n",
              "      <th id=\"T_2058d_level0_col0\" class=\"col_heading level0 col0\" >c0</th>\n",
              "      <th id=\"T_2058d_level0_col1\" class=\"col_heading level0 col1\" >c1</th>\n",
              "      <th id=\"T_2058d_level0_col2\" class=\"col_heading level0 col2\" >c2</th>\n",
              "      <th id=\"T_2058d_level0_col3\" class=\"col_heading level0 col3\" >c3</th>\n",
              "      <th id=\"T_2058d_level0_col4\" class=\"col_heading level0 col4\" >c4</th>\n",
              "      <th id=\"T_2058d_level0_col5\" class=\"col_heading level0 col5\" >c5</th>\n",
              "    </tr>\n",
              "  </thead>\n",
              "  <tbody>\n",
              "    <tr>\n",
              "      <th id=\"T_2058d_level0_row0\" class=\"row_heading level0 row0\" >A^0</th>\n",
              "      <td id=\"T_2058d_row0_col0\" class=\"data row0 col0\" >1</td>\n",
              "      <td id=\"T_2058d_row0_col1\" class=\"data row0 col1\" >-3.1</td>\n",
              "      <td id=\"T_2058d_row0_col2\" class=\"data row0 col2\" >3.29</td>\n",
              "      <td id=\"T_2058d_row0_col3\" class=\"data row0 col3\" >-1.457</td>\n",
              "      <td id=\"T_2058d_row0_col4\" class=\"data row0 col4\" >0.267</td>\n",
              "      <td id=\"T_2058d_row0_col5\" class=\"data row0 col5\" >-0.01512</td>\n",
              "    </tr>\n",
              "  </tbody>\n",
              "</table>\n"
            ]
          },
          "metadata": {}
        },
        {
          "output_type": "stream",
          "name": "stdout",
          "text": [
            "\n",
            "=== Famílias A, B, C, ... (até 3 elementos) ===\n"
          ]
        },
        {
          "output_type": "display_data",
          "data": {
            "text/plain": [
              "<pandas.io.formats.style.Styler at 0x7935f450aea0>"
            ],
            "text/html": [
              "<style type=\"text/css\">\n",
              "</style>\n",
              "<table id=\"T_8d50b\" class=\"dataframe\">\n",
              "  <caption>Tabela de famílias (Jury)</caption>\n",
              "  <thead>\n",
              "    <tr>\n",
              "      <th class=\"blank level0\" >&nbsp;</th>\n",
              "      <th id=\"T_8d50b_level0_col0\" class=\"col_heading level0 col0\" >c0</th>\n",
              "      <th id=\"T_8d50b_level0_col1\" class=\"col_heading level0 col1\" >c1</th>\n",
              "      <th id=\"T_8d50b_level0_col2\" class=\"col_heading level0 col2\" >c2</th>\n",
              "      <th id=\"T_8d50b_level0_col3\" class=\"col_heading level0 col3\" >c3</th>\n",
              "      <th id=\"T_8d50b_level0_col4\" class=\"col_heading level0 col4\" >c4</th>\n",
              "      <th id=\"T_8d50b_level0_col5\" class=\"col_heading level0 col5\" >c5</th>\n",
              "    </tr>\n",
              "  </thead>\n",
              "  <tbody>\n",
              "    <tr>\n",
              "      <th id=\"T_8d50b_level0_row0\" class=\"row_heading level0 row0\" >A (→)</th>\n",
              "      <td id=\"T_8d50b_row0_col0\" class=\"data row0 col0\" >-0.01512</td>\n",
              "      <td id=\"T_8d50b_row0_col1\" class=\"data row0 col1\" >0.267</td>\n",
              "      <td id=\"T_8d50b_row0_col2\" class=\"data row0 col2\" >-1.457</td>\n",
              "      <td id=\"T_8d50b_row0_col3\" class=\"data row0 col3\" >3.29</td>\n",
              "      <td id=\"T_8d50b_row0_col4\" class=\"data row0 col4\" >-3.1</td>\n",
              "      <td id=\"T_8d50b_row0_col5\" class=\"data row0 col5\" >1</td>\n",
              "    </tr>\n",
              "    <tr>\n",
              "      <th id=\"T_8d50b_level0_row1\" class=\"row_heading level0 row1\" >A (←)</th>\n",
              "      <td id=\"T_8d50b_row1_col0\" class=\"data row1 col0\" >1</td>\n",
              "      <td id=\"T_8d50b_row1_col1\" class=\"data row1 col1\" >-3.1</td>\n",
              "      <td id=\"T_8d50b_row1_col2\" class=\"data row1 col2\" >3.29</td>\n",
              "      <td id=\"T_8d50b_row1_col3\" class=\"data row1 col3\" >-1.457</td>\n",
              "      <td id=\"T_8d50b_row1_col4\" class=\"data row1 col4\" >0.267</td>\n",
              "      <td id=\"T_8d50b_row1_col5\" class=\"data row1 col5\" >-0.01512</td>\n",
              "    </tr>\n",
              "    <tr>\n",
              "      <th id=\"T_8d50b_level0_row2\" class=\"row_heading level0 row2\" >B (→)</th>\n",
              "      <td id=\"T_8d50b_row2_col0\" class=\"data row2 col0\" >-0.999771</td>\n",
              "      <td id=\"T_8d50b_row2_col1\" class=\"data row2 col1\" >3.09596</td>\n",
              "      <td id=\"T_8d50b_row2_col2\" class=\"data row2 col2\" >-3.26797</td>\n",
              "      <td id=\"T_8d50b_row2_col3\" class=\"data row2 col3\" >1.40726</td>\n",
              "      <td id=\"T_8d50b_row2_col4\" class=\"data row2 col4\" >-0.220128</td>\n",
              "      <td id=\"T_8d50b_row2_col5\" class=\"data row2 col5\" ></td>\n",
              "    </tr>\n",
              "    <tr>\n",
              "      <th id=\"T_8d50b_level0_row3\" class=\"row_heading level0 row3\" >B (←)</th>\n",
              "      <td id=\"T_8d50b_row3_col0\" class=\"data row3 col0\" >-0.220128</td>\n",
              "      <td id=\"T_8d50b_row3_col1\" class=\"data row3 col1\" >1.40726</td>\n",
              "      <td id=\"T_8d50b_row3_col2\" class=\"data row3 col2\" >-3.26797</td>\n",
              "      <td id=\"T_8d50b_row3_col3\" class=\"data row3 col3\" >3.09596</td>\n",
              "      <td id=\"T_8d50b_row3_col4\" class=\"data row3 col4\" >-0.999771</td>\n",
              "      <td id=\"T_8d50b_row3_col5\" class=\"data row3 col5\" ></td>\n",
              "    </tr>\n",
              "    <tr>\n",
              "      <th id=\"T_8d50b_level0_row4\" class=\"row_heading level0 row4\" >C (→)</th>\n",
              "      <td id=\"T_8d50b_row4_col0\" class=\"data row4 col0\" >0.951086</td>\n",
              "      <td id=\"T_8d50b_row4_col1\" class=\"data row4 col1\" >-2.78548</td>\n",
              "      <td id=\"T_8d50b_row4_col2\" class=\"data row4 col2\" >2.54785</td>\n",
              "      <td id=\"T_8d50b_row4_col3\" class=\"data row4 col3\" >-0.725425</td>\n",
              "      <td id=\"T_8d50b_row4_col4\" class=\"data row4 col4\" ></td>\n",
              "      <td id=\"T_8d50b_row4_col5\" class=\"data row4 col5\" ></td>\n",
              "    </tr>\n",
              "    <tr>\n",
              "      <th id=\"T_8d50b_level0_row5\" class=\"row_heading level0 row5\" >C (←)</th>\n",
              "      <td id=\"T_8d50b_row5_col0\" class=\"data row5 col0\" >-0.725425</td>\n",
              "      <td id=\"T_8d50b_row5_col1\" class=\"data row5 col1\" >2.54785</td>\n",
              "      <td id=\"T_8d50b_row5_col2\" class=\"data row5 col2\" >-2.78548</td>\n",
              "      <td id=\"T_8d50b_row5_col3\" class=\"data row5 col3\" >0.951086</td>\n",
              "      <td id=\"T_8d50b_row5_col4\" class=\"data row5 col4\" ></td>\n",
              "      <td id=\"T_8d50b_row5_col5\" class=\"data row5 col5\" ></td>\n",
              "    </tr>\n",
              "    <tr>\n",
              "      <th id=\"T_8d50b_level0_row6\" class=\"row_heading level0 row6\" >D (→)</th>\n",
              "      <td id=\"T_8d50b_row6_col0\" class=\"data row6 col0\" >0.378324</td>\n",
              "      <td id=\"T_8d50b_row6_col1\" class=\"data row6 col1\" >-0.800955</td>\n",
              "      <td id=\"T_8d50b_row6_col2\" class=\"data row6 col2\" >0.40257</td>\n",
              "      <td id=\"T_8d50b_row6_col3\" class=\"data row6 col3\" ></td>\n",
              "      <td id=\"T_8d50b_row6_col4\" class=\"data row6 col4\" ></td>\n",
              "      <td id=\"T_8d50b_row6_col5\" class=\"data row6 col5\" ></td>\n",
              "    </tr>\n",
              "    <tr>\n",
              "      <th id=\"T_8d50b_level0_row7\" class=\"row_heading level0 row7\" >D (←)</th>\n",
              "      <td id=\"T_8d50b_row7_col0\" class=\"data row7 col0\" >0.40257</td>\n",
              "      <td id=\"T_8d50b_row7_col1\" class=\"data row7 col1\" >-0.800955</td>\n",
              "      <td id=\"T_8d50b_row7_col2\" class=\"data row7 col2\" >0.378324</td>\n",
              "      <td id=\"T_8d50b_row7_col3\" class=\"data row7 col3\" ></td>\n",
              "      <td id=\"T_8d50b_row7_col4\" class=\"data row7 col4\" ></td>\n",
              "      <td id=\"T_8d50b_row7_col5\" class=\"data row7 col5\" ></td>\n",
              "    </tr>\n",
              "  </tbody>\n",
              "</table>\n"
            ]
          },
          "metadata": {}
        }
      ]
    },
    {
      "cell_type": "markdown",
      "source": [
        "# Bloco 7 — Exportação"
      ],
      "metadata": {
        "id": "B3mDbMo06od1"
      }
    },
    {
      "cell_type": "code",
      "source": [
        "def export_table(table_rows, basename=\"jury_table\"):\n",
        "    maxlen = max(len(r) for r in table_rows)\n",
        "    cols = [f\"c{k}\" for k in range(maxlen)]\n",
        "    idx  = [f\"A^{i}\" for i in range(len(table_rows))]\n",
        "    data = [r + [\"\"]*(maxlen-len(r)) for r in table_rows]\n",
        "    df = pd.DataFrame(data, index=idx, columns=cols)\n",
        "    csv_path = f\"{basename}.csv\"; md_path = f\"{basename}.md\"\n",
        "    df.to_csv(csv_path, index=True)\n",
        "    with open(md_path, \"w\", encoding=\"utf-8\") as f:\n",
        "        f.write(df.to_markdown())\n",
        "    print(f\"Arquivos salvos:\\n- {csv_path}\\n- {md_path}\")\n",
        "    return csv_path, md_path\n",
        "\n",
        "# Exporta a tabela da REDUÇÃO:\n",
        "_ = export_table(res[\"table\"], basename=\"jury_reducao\")\n",
        "\n",
        "# Exporta a tabela das FAMÍLIAS:\n",
        "df_fams.reset_index().to_csv(\"jury_familias.csv\", index=False)\n",
        "with open(\"jury_familias.md\", \"w\", encoding=\"utf-8\") as f:\n",
        "    f.write(df_fams.to_markdown())\n",
        "print(\"Arquivos salvos também: jury_familias.csv, jury_familias.md\")\n"
      ],
      "metadata": {
        "colab": {
          "base_uri": "https://localhost:8080/"
        },
        "id": "arUX1mY86tzk",
        "outputId": "09911ffa-57be-4a2a-961c-06d794dbc1dc"
      },
      "execution_count": null,
      "outputs": [
        {
          "output_type": "stream",
          "name": "stdout",
          "text": [
            "Arquivos salvos:\n",
            "- jury_reducao.csv\n",
            "- jury_reducao.md\n",
            "Arquivos salvos também: jury_familias.csv, jury_familias.md\n"
          ]
        }
      ]
    },
    {
      "cell_type": "markdown",
      "source": [
        "# **Exercícios práticos**"
      ],
      "metadata": {
        "id": "-U5U0xCywNxD"
      }
    },
    {
      "cell_type": "markdown",
      "source": [
        "## Exercícios práticos\n",
        "\n",
        "1. **Grau 3 estável:** construa um polinômio cúbico que seja estável (dica: escolha 3 raízes com |z|<1), gere os coeficientes e aplique o Jury.\n",
        "2. **Grau 4 com uma raiz instável:** escolha raízes \\([0.2, 0.5, 1.1, 0.3]\\), gere os coeficientes e avalie — o que acontece nas pré-condições?\n",
        "3. **Efeito de normalização:** teste `normalize=False` na função `jury_until_quadratic` e comente diferenças numéricas.\n",
        "4. **Comparação com o mapa de polos:** usando as raízes escolhidas, comente como o veredito do Jury se relaciona com a posição dos polos no plano-z.\n",
        "\n",
        "> Registre as respostas nas células abaixo (texto). Use capturas de tela da Tabela de Jury quando necessário."
      ],
      "metadata": {
        "id": "SLs8WiMPwPOz"
      }
    },
    {
      "cell_type": "markdown",
      "source": [
        "# Bloco 8 — Checagem de consistência"
      ],
      "metadata": {
        "id": "xGg_gMMp62o8"
      }
    },
    {
      "cell_type": "code",
      "source": [
        "# Bloco 8 — Checagem de consistência (normalizando PELO ÚLTIMO termo)\n",
        "\n",
        "# pegue a ÚLTIMA FAMÍLIA na linha direta \"(→)\":\n",
        "idx_last_direct = df_fams.index[-2] if df_fams.index[-2].endswith(\"(→)\") else df_fams.index[-1]\n",
        "fam_ultima_vals = df_fams.loc[idx_last_direct].tolist()\n",
        "\n",
        "# filtra vazios e converte para float\n",
        "fam_ultima = [float(x) for x in fam_ultima_vals if x != \"\"]\n",
        "quad_reduc = res.get(\"final_quadratic\")  # pode ser None se não chegou a grau 2\n",
        "\n",
        "print(\"Quadrático (redução):\", quad_reduc)\n",
        "print(\"Última família (não normalizada):\", fam_ultima)\n",
        "\n",
        "# normaliza para que o ÚLTIMO termo seja 1 (maior índice)\n",
        "if fam_ultima and abs(fam_ultima[-1]) > 1e-12:\n",
        "    fam_norm = (np.array(fam_ultima, dtype=float) / fam_ultima[-1]).tolist()\n",
        "    print(\"Última família (normalizada último=1):\", [f\"{x:.6g}\" for x in fam_norm])\n",
        "else:\n",
        "    print(\"Não foi possível normalizar: último coeficiente ~ 0.\")\n",
        "\n",
        "\n"
      ],
      "metadata": {
        "colab": {
          "base_uri": "https://localhost:8080/"
        },
        "id": "BO9leSyt66R-",
        "outputId": "e120f49a-3d64-45ea-e56f-bfc269357750"
      },
      "execution_count": null,
      "outputs": [
        {
          "output_type": "stream",
          "name": "stdout",
          "text": [
            "Quadrático (redução): None\n",
            "Última família (não normalizada): [0.378324, -0.800955, 0.40257]\n",
            "Última família (normalizada último=1): ['0.939772', '-1.9896', '1']\n"
          ]
        }
      ]
    },
    {
      "cell_type": "markdown",
      "source": [
        "# **Reflexão do aluno**"
      ],
      "metadata": {
        "id": "rmIURcpewVSc"
      }
    },
    {
      "cell_type": "markdown",
      "source": [
        "## Reflexão (respostas do aluno)\n",
        "\n",
        "- **(1)** O que significa falhar em `P(1)>0` na sua interpretação?\n",
        "- **(2)** Em qual etapa o seu exemplo instável “quebrou” (pré-condição ou etapa intermediária \\(|a_m|<a_0\\))?\n",
        "- **(3)** Qual a vantagem de parar em **grau 2** para fins de relatório? O que faltaria para executar o **Jury completo**?\n"
      ],
      "metadata": {
        "id": "uKRav4y_wW0s"
      }
    }
  ]
}